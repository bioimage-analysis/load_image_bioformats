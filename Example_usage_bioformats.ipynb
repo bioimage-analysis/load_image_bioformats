{
 "cells": [
  {
   "cell_type": "code",
   "execution_count": 1,
   "metadata": {
    "collapsed": true
   },
   "outputs": [],
   "source": [
    "%load_ext autoreload\n",
    "%autoreload 2"
   ]
  },
  {
   "cell_type": "code",
   "execution_count": 2,
   "metadata": {
    "collapsed": true
   },
   "outputs": [],
   "source": [
    "% matplotlib inline"
   ]
  },
  {
   "cell_type": "code",
   "execution_count": 3,
   "metadata": {
    "collapsed": false
   },
   "outputs": [],
   "source": [
    "import matplotlib.pyplot as plt\n",
    "import numpy as np\n",
    "import bioformats"
   ]
  },
  {
   "cell_type": "code",
   "execution_count": 4,
   "metadata": {
    "collapsed": true
   },
   "outputs": [],
   "source": [
    "path = \"img/3D_Kidney.czi\""
   ]
  },
  {
   "cell_type": "code",
   "execution_count": 5,
   "metadata": {
    "collapsed": false
   },
   "outputs": [],
   "source": [
    "image = bioformats.BioformatsReader(path)"
   ]
  },
  {
   "cell_type": "markdown",
   "metadata": {},
   "source": [
    "Here we have created an instance object \"image\" of the class BioformatsReader, if you are note familliar with classes in Python you can look [here](https://docs.python.org/3/tutorial/classes.html), codeacademy also has a nice [introduction to classes](https://www.codecademy.com/courses/python-intermediate-en-WL8e4/0/1)."
   ]
  },
  {
   "cell_type": "code",
   "execution_count": 6,
   "metadata": {
    "collapsed": false
   },
   "outputs": [
    {
     "data": {
      "text/plain": [
       "<bioformats.BioformatsReader at 0x103e3a5f8>"
      ]
     },
     "execution_count": 6,
     "metadata": {},
     "output_type": "execute_result"
    }
   ],
   "source": [
    "image"
   ]
  },
  {
   "cell_type": "markdown",
   "metadata": {},
   "source": [
    "#### 5 methods can be applied to the object image: "
   ]
  },
  {
   "cell_type": "markdown",
   "metadata": {},
   "source": [
    "**get_dimension()** will give some information on the dimensionality of your object"
   ]
  },
  {
   "cell_type": "code",
   "execution_count": 7,
   "metadata": {
    "collapsed": false
   },
   "outputs": [],
   "source": [
    "dim = image.get_dimension()"
   ]
  },
  {
   "cell_type": "code",
   "execution_count": 8,
   "metadata": {
    "collapsed": false
   },
   "outputs": [
    {
     "data": {
      "text/plain": [
       "{'c': 3, 't': 1, 'x': 1960, 'y': 1960, 'z': 1}"
      ]
     },
     "execution_count": 8,
     "metadata": {},
     "output_type": "execute_result"
    }
   ],
   "source": [
    "dim"
   ]
  },
  {
   "cell_type": "markdown",
   "metadata": {},
   "source": [
    "**get_metadata_raw()** will give you all the metadata associated with your object (similar to image oinfo in imageJ)"
   ]
  },
  {
   "cell_type": "code",
   "execution_count": 9,
   "metadata": {
    "collapsed": true
   },
   "outputs": [],
   "source": [
    "metadata_all = image.get_metadata_raw()"
   ]
  },
  {
   "cell_type": "code",
   "execution_count": 10,
   "metadata": {
    "collapsed": false
   },
   "outputs": [
    {
     "data": {
      "text/plain": [
       "{'Appliance|Data|ShuttleAndFindData|Calibration|Marker|FocusPosition #1': '0',\n",
       " 'Appliance|Data|ShuttleAndFindData|Calibration|Marker|FocusPosition #2': '0',\n",
       " 'Appliance|Data|ShuttleAndFindData|Calibration|Marker|FocusPosition #3': '0',\n",
       " 'Appliance|Data|ShuttleAndFindData|Calibration|Marker|Id #1': 'Marker:1',\n",
       " 'Appliance|Data|ShuttleAndFindData|Calibration|Marker|Id #2': 'Marker:2',\n",
       " 'Appliance|Data|ShuttleAndFindData|Calibration|Marker|Id #3': 'Marker:3',\n",
       " 'Appliance|Data|ShuttleAndFindData|Calibration|Marker|StageXPosition #1': '0',\n",
       " 'Appliance|Data|ShuttleAndFindData|Calibration|Marker|StageXPosition #2': '0',\n",
       " 'Appliance|Data|ShuttleAndFindData|Calibration|Marker|StageXPosition #3': '0',\n",
       " 'Appliance|Data|ShuttleAndFindData|Calibration|Marker|StageYPosition #1': '0',\n",
       " 'Appliance|Data|ShuttleAndFindData|Calibration|Marker|StageYPosition #2': '0',\n",
       " 'Appliance|Data|ShuttleAndFindData|Calibration|Marker|StageYPosition #3': '0',\n",
       " 'Appliance|Data|ShuttleAndFindData|Calibration|MicroscopeType #1': 'LM',\n",
       " 'Appliance|Data|ShuttleAndFindData|Calibration|StageOrientation|X #1': '-1',\n",
       " 'Appliance|Data|ShuttleAndFindData|Calibration|StageOrientation|Y #1': '-1',\n",
       " 'Appliance|Id #1': 'ShuttleAndFind:1',\n",
       " 'Experiment|AcquisitionBlock|AcquisitionModeSetup|AcquisitionMode #1': 'Frame',\n",
       " 'Experiment|AcquisitionBlock|AcquisitionModeSetup|BiDirectional #1': 'true',\n",
       " 'Experiment|AcquisitionBlock|AcquisitionModeSetup|BiDirectionalZ #1': 'false',\n",
       " 'Experiment|AcquisitionBlock|AcquisitionModeSetup|BitsPerSample #1': '16',\n",
       " 'Experiment|AcquisitionBlock|AcquisitionModeSetup|CameraBinning #1': '1',\n",
       " 'Experiment|AcquisitionBlock|AcquisitionModeSetup|CameraFrameHeight #1': '1030',\n",
       " 'Experiment|AcquisitionBlock|AcquisitionModeSetup|CameraFrameOffsetX #1': '0',\n",
       " 'Experiment|AcquisitionBlock|AcquisitionModeSetup|CameraFrameOffsetY #1': '0',\n",
       " 'Experiment|AcquisitionBlock|AcquisitionModeSetup|CameraFrameWidth #1': '1300',\n",
       " 'Experiment|AcquisitionBlock|AcquisitionModeSetup|CameraSuperSampling #1': '0',\n",
       " 'Experiment|AcquisitionBlock|AcquisitionModeSetup|DimensionT #1': '10',\n",
       " 'Experiment|AcquisitionBlock|AcquisitionModeSetup|DimensionX #1': '1960',\n",
       " 'Experiment|AcquisitionBlock|AcquisitionModeSetup|DimensionY #1': '1960',\n",
       " 'Experiment|AcquisitionBlock|AcquisitionModeSetup|DimensionZ #1': '1',\n",
       " 'Experiment|AcquisitionBlock|AcquisitionModeSetup|FilterMethod #1': 'Average',\n",
       " 'Experiment|AcquisitionBlock|AcquisitionModeSetup|FilterMode #1': 'Line',\n",
       " 'Experiment|AcquisitionBlock|AcquisitionModeSetup|FilterSamplingNumber #1': '4',\n",
       " 'Experiment|AcquisitionBlock|AcquisitionModeSetup|FitFramesizeToRoi #1': 'false',\n",
       " 'Experiment|AcquisitionBlock|AcquisitionModeSetup|FocusStabilizer #1': 'false',\n",
       " 'Experiment|AcquisitionBlock|AcquisitionModeSetup|HdrEnabled #1': 'false',\n",
       " 'Experiment|AcquisitionBlock|AcquisitionModeSetup|HdrImagingMode #1': '0',\n",
       " 'Experiment|AcquisitionBlock|AcquisitionModeSetup|HdrIntensity #1': '1',\n",
       " 'Experiment|AcquisitionBlock|AcquisitionModeSetup|HdrNumFrames #1': '1',\n",
       " 'Experiment|AcquisitionBlock|AcquisitionModeSetup|InterpolationY #1': '1',\n",
       " 'Experiment|AcquisitionBlock|AcquisitionModeSetup|Objective #1': 'Plan-Apochromat 63x/1.4 Oil DIC M27',\n",
       " 'Experiment|AcquisitionBlock|AcquisitionModeSetup|OffsetX #1': '0',\n",
       " 'Experiment|AcquisitionBlock|AcquisitionModeSetup|OffsetY #1': '0',\n",
       " 'Experiment|AcquisitionBlock|AcquisitionModeSetup|OffsetZ #1': '-0.00091447900000000005',\n",
       " 'Experiment|AcquisitionBlock|AcquisitionModeSetup|PixelPeriod #1': '6.6666666666666671e-007',\n",
       " 'Experiment|AcquisitionBlock|AcquisitionModeSetup|PreScan #1': 'false',\n",
       " 'Experiment|AcquisitionBlock|AcquisitionModeSetup|ReferenceZ #1': '0.0013921929999999999',\n",
       " 'Experiment|AcquisitionBlock|AcquisitionModeSetup|Rotation #1': '0',\n",
       " 'Experiment|AcquisitionBlock|AcquisitionModeSetup|RtBinning #1': '1',\n",
       " 'Experiment|AcquisitionBlock|AcquisitionModeSetup|RtFrameHeight #1': '512',\n",
       " 'Experiment|AcquisitionBlock|AcquisitionModeSetup|RtFrameWidth #1': '512',\n",
       " 'Experiment|AcquisitionBlock|AcquisitionModeSetup|RtLinePeriod #1': '3.9393939393939396e-007',\n",
       " 'Experiment|AcquisitionBlock|AcquisitionModeSetup|RtOffsetX #1': '0',\n",
       " 'Experiment|AcquisitionBlock|AcquisitionModeSetup|RtOffsetY #1': '0',\n",
       " 'Experiment|AcquisitionBlock|AcquisitionModeSetup|RtRegionHeight #1': '512',\n",
       " 'Experiment|AcquisitionBlock|AcquisitionModeSetup|RtRegionWidth #1': '512',\n",
       " 'Experiment|AcquisitionBlock|AcquisitionModeSetup|RtSuperSampling #1': '1',\n",
       " 'Experiment|AcquisitionBlock|AcquisitionModeSetup|RtZoom #1': '1',\n",
       " 'Experiment|AcquisitionBlock|AcquisitionModeSetup|ScalingX #1': '6.8852625328039586e-008',\n",
       " 'Experiment|AcquisitionBlock|AcquisitionModeSetup|ScalingY #1': '6.8852625328039586e-008',\n",
       " 'Experiment|AcquisitionBlock|AcquisitionModeSetup|ScalingZ #1': '9.9999999999999995e-007',\n",
       " 'Experiment|AcquisitionBlock|AcquisitionModeSetup|ScannerOnlineCorrection #1': 'true',\n",
       " 'Experiment|AcquisitionBlock|AcquisitionModeSetup|SimRotations #1': '3',\n",
       " 'Experiment|AcquisitionBlock|AcquisitionModeSetup|TimeSeries #1': 'false',\n",
       " 'Experiment|AcquisitionBlock|AcquisitionModeSetup|TrackMultiplexType #1': 'Line',\n",
       " 'Experiment|AcquisitionBlock|AcquisitionModeSetup|UseRois #1': 'false',\n",
       " 'Experiment|AcquisitionBlock|AcquisitionModeSetup|WaitState #1': 'false',\n",
       " 'Experiment|AcquisitionBlock|AcquisitionModeSetup|ZoomX #1': '1',\n",
       " 'Experiment|AcquisitionBlock|AcquisitionModeSetup|ZoomY #1': '1',\n",
       " 'Experiment|AcquisitionBlock|Laser|LaserName #1': 'HeNe633',\n",
       " 'Experiment|AcquisitionBlock|Laser|LaserName #2': 'Diode 405-30',\n",
       " 'Experiment|AcquisitionBlock|Laser|LaserPower #1': '0.0050000000000000001',\n",
       " 'Experiment|AcquisitionBlock|Laser|LaserPower #2': '0.029999999999999999',\n",
       " 'Experiment|AcquisitionBlock|MultiTrackSetup|TrackSetup|Attenuator|ExcitationIntensity #1': '0',\n",
       " 'Experiment|AcquisitionBlock|MultiTrackSetup|TrackSetup|Attenuator|ExcitationIntensity #2': '0',\n",
       " 'Experiment|AcquisitionBlock|MultiTrackSetup|TrackSetup|Attenuator|Laser #1': 'HeNe633',\n",
       " 'Experiment|AcquisitionBlock|MultiTrackSetup|TrackSetup|Attenuator|Laser #2': 'Diode 405-30',\n",
       " 'Experiment|AcquisitionBlock|MultiTrackSetup|TrackSetup|Attenuator|LaserSuppression #1': 'false',\n",
       " 'Experiment|AcquisitionBlock|MultiTrackSetup|TrackSetup|Attenuator|LaserSuppression #2': 'false',\n",
       " 'Experiment|AcquisitionBlock|MultiTrackSetup|TrackSetup|Attenuator|Polarization_Stokes0 #1': '1',\n",
       " 'Experiment|AcquisitionBlock|MultiTrackSetup|TrackSetup|Attenuator|Polarization_Stokes0 #2': '1',\n",
       " 'Experiment|AcquisitionBlock|MultiTrackSetup|TrackSetup|Attenuator|Polarization_Stokes1 #1': '1',\n",
       " 'Experiment|AcquisitionBlock|MultiTrackSetup|TrackSetup|Attenuator|Polarization_Stokes1 #2': '1',\n",
       " 'Experiment|AcquisitionBlock|MultiTrackSetup|TrackSetup|Attenuator|Polarization_Stokes2 #1': '0',\n",
       " 'Experiment|AcquisitionBlock|MultiTrackSetup|TrackSetup|Attenuator|Polarization_Stokes2 #2': '0',\n",
       " 'Experiment|AcquisitionBlock|MultiTrackSetup|TrackSetup|Attenuator|Polarization_Stokes3 #1': '0',\n",
       " 'Experiment|AcquisitionBlock|MultiTrackSetup|TrackSetup|Attenuator|Polarization_Stokes3 #2': '0',\n",
       " 'Experiment|AcquisitionBlock|MultiTrackSetup|TrackSetup|Attenuator|Transmission #1': '0.02',\n",
       " 'Experiment|AcquisitionBlock|MultiTrackSetup|TrackSetup|Attenuator|Transmission #2': '0.01',\n",
       " 'Experiment|AcquisitionBlock|MultiTrackSetup|TrackSetup|Attenuator|Wavelength #1': '6.3300000000000002e-007',\n",
       " 'Experiment|AcquisitionBlock|MultiTrackSetup|TrackSetup|Attenuator|Wavelength #2': '4.0500000000000004e-007',\n",
       " 'Experiment|AcquisitionBlock|MultiTrackSetup|TrackSetup|BeamSplitter|BeamSplitterServoPosition #1': '0',\n",
       " 'Experiment|AcquisitionBlock|MultiTrackSetup|TrackSetup|BeamSplitter|BeamSplitterServoPosition #2': '0',\n",
       " 'Experiment|AcquisitionBlock|MultiTrackSetup|TrackSetup|BeamSplitter|BeamSplitterServoPosition #3': '0',\n",
       " 'Experiment|AcquisitionBlock|MultiTrackSetup|TrackSetup|BeamSplitter|BeamSplitterServoPosition #4': '0',\n",
       " 'Experiment|AcquisitionBlock|MultiTrackSetup|TrackSetup|BeamSplitter|BeamSplitterServoPosition #5': '0',\n",
       " 'Experiment|AcquisitionBlock|MultiTrackSetup|TrackSetup|BeamSplitter|Filter #1': 'MBS 488/561/633',\n",
       " 'Experiment|AcquisitionBlock|MultiTrackSetup|TrackSetup|BeamSplitter|Filter #2': 'MBS -405',\n",
       " 'Experiment|AcquisitionBlock|MultiTrackSetup|TrackSetup|BeamSplitter|Filter #3': 'Mirror',\n",
       " 'Experiment|AcquisitionBlock|MultiTrackSetup|TrackSetup|BeamSplitter|Filter #4': 'Rear',\n",
       " 'Experiment|AcquisitionBlock|MultiTrackSetup|TrackSetup|BeamSplitter|Filter #5': 'None',\n",
       " 'Experiment|AcquisitionBlock|MultiTrackSetup|TrackSetup|BeamSplitter|Identifier #1': 'MainBeamSplitterDescanned1',\n",
       " 'Experiment|AcquisitionBlock|MultiTrackSetup|TrackSetup|BeamSplitter|Identifier #2': 'MainBeamSplitterDescanned2',\n",
       " 'Experiment|AcquisitionBlock|MultiTrackSetup|TrackSetup|BeamSplitter|Identifier #3': 'DichroicBeamSplitterDescanned1',\n",
       " 'Experiment|AcquisitionBlock|MultiTrackSetup|TrackSetup|BeamSplitter|Identifier #4': 'MainBeamSplitterNonDescanned',\n",
       " 'Experiment|AcquisitionBlock|MultiTrackSetup|TrackSetup|BeamSplitter|Identifier #5': 'LaserSuppressionBeamSplitter7',\n",
       " 'Experiment|AcquisitionBlock|MultiTrackSetup|TrackSetup|CameraIntegrationTime #1': '6.6666666666666671e-007',\n",
       " 'Experiment|AcquisitionBlock|MultiTrackSetup|TrackSetup|CenterWavelength #1': '5.5206754499999998e-007',\n",
       " 'Experiment|AcquisitionBlock|MultiTrackSetup|TrackSetup|Collimator|Name #1': 'LSMCOLLI_NLO',\n",
       " 'Experiment|AcquisitionBlock|MultiTrackSetup|TrackSetup|Collimator|Name #2': 'LSMCOLLI_V',\n",
       " 'Experiment|AcquisitionBlock|MultiTrackSetup|TrackSetup|Collimator|Position #1': '2899',\n",
       " 'Experiment|AcquisitionBlock|MultiTrackSetup|TrackSetup|Collimator|Position #2': '527',\n",
       " 'Experiment|AcquisitionBlock|MultiTrackSetup|TrackSetup|CondensorAperture #1': '0.55007643890000002',\n",
       " 'Experiment|AcquisitionBlock|MultiTrackSetup|TrackSetup|CondensorFrontlensPosition #1': '-1',\n",
       " 'Experiment|AcquisitionBlock|MultiTrackSetup|TrackSetup|CondensorRevolverFilter #1': 'HF',\n",
       " 'Experiment|AcquisitionBlock|MultiTrackSetup|TrackSetup|Detector|AiryScanMagnification #1': '1',\n",
       " 'Experiment|AcquisitionBlock|MultiTrackSetup|TrackSetup|Detector|AiryScanMagnification #2': '1',\n",
       " 'Experiment|AcquisitionBlock|MultiTrackSetup|TrackSetup|Detector|AiryScanMagnification #3': '1',\n",
       " 'Experiment|AcquisitionBlock|MultiTrackSetup|TrackSetup|Detector|AiryScanMode #1': 'Off',\n",
       " 'Experiment|AcquisitionBlock|MultiTrackSetup|TrackSetup|Detector|AiryScanMode #2': 'Off',\n",
       " 'Experiment|AcquisitionBlock|MultiTrackSetup|TrackSetup|Detector|AiryScanMode #3': 'Off',\n",
       " 'Experiment|AcquisitionBlock|MultiTrackSetup|TrackSetup|Detector|AiryScanTransformationXX #1': '4.90833236573583e+252',\n",
       " 'Experiment|AcquisitionBlock|MultiTrackSetup|TrackSetup|Detector|AiryScanTransformationXX #2': '4.90833236573583e+252',\n",
       " 'Experiment|AcquisitionBlock|MultiTrackSetup|TrackSetup|Detector|AiryScanTransformationXX #3': '4.90833236573583e+252',\n",
       " 'Experiment|AcquisitionBlock|MultiTrackSetup|TrackSetup|Detector|AiryScanTransformationXY #1': '3.1985903561914739e-308',\n",
       " 'Experiment|AcquisitionBlock|MultiTrackSetup|TrackSetup|Detector|AiryScanTransformationXY #2': '3.1985903561914739e-308',\n",
       " 'Experiment|AcquisitionBlock|MultiTrackSetup|TrackSetup|Detector|AiryScanTransformationXY #3': '3.1985903561914739e-308',\n",
       " 'Experiment|AcquisitionBlock|MultiTrackSetup|TrackSetup|Detector|AiryScanTransformationYX #1': '2.7363536687553051e-310',\n",
       " 'Experiment|AcquisitionBlock|MultiTrackSetup|TrackSetup|Detector|AiryScanTransformationYX #2': '2.7363536687553051e-310',\n",
       " 'Experiment|AcquisitionBlock|MultiTrackSetup|TrackSetup|Detector|AiryScanTransformationYX #3': '2.7363536687553051e-310',\n",
       " 'Experiment|AcquisitionBlock|MultiTrackSetup|TrackSetup|Detector|AiryScanTransformationYY #1': '3.7548673089309564e-308',\n",
       " 'Experiment|AcquisitionBlock|MultiTrackSetup|TrackSetup|Detector|AiryScanTransformationYY #2': '3.7548673089309564e-308',\n",
       " 'Experiment|AcquisitionBlock|MultiTrackSetup|TrackSetup|Detector|AiryScanTransformationYY #3': '3.7548673089309564e-308',\n",
       " 'Experiment|AcquisitionBlock|MultiTrackSetup|TrackSetup|Detector|AiryScanVirtualPinholeSize #1': '1',\n",
       " 'Experiment|AcquisitionBlock|MultiTrackSetup|TrackSetup|Detector|AiryScanVirtualPinholeSize #2': '1',\n",
       " 'Experiment|AcquisitionBlock|MultiTrackSetup|TrackSetup|Detector|AiryScanVirtualPinholeSize #3': '1',\n",
       " 'Experiment|AcquisitionBlock|MultiTrackSetup|TrackSetup|Detector|AmplifierGain #1': '1',\n",
       " 'Experiment|AcquisitionBlock|MultiTrackSetup|TrackSetup|Detector|AmplifierGain #2': '1',\n",
       " 'Experiment|AcquisitionBlock|MultiTrackSetup|TrackSetup|Detector|AmplifierGain #3': '1',\n",
       " 'Experiment|AcquisitionBlock|MultiTrackSetup|TrackSetup|Detector|AmplifierOffset #1': '140',\n",
       " 'Experiment|AcquisitionBlock|MultiTrackSetup|TrackSetup|Detector|AmplifierOffset #2': '180',\n",
       " 'Experiment|AcquisitionBlock|MultiTrackSetup|TrackSetup|Detector|AmplifierOffset #3': '0',\n",
       " 'Experiment|AcquisitionBlock|MultiTrackSetup|TrackSetup|Detector|Color #1': '#0000FF',\n",
       " 'Experiment|AcquisitionBlock|MultiTrackSetup|TrackSetup|Detector|Color #2': '#FF0000',\n",
       " 'Experiment|AcquisitionBlock|MultiTrackSetup|TrackSetup|Detector|Color #3': '#FFFFFF',\n",
       " 'Experiment|AcquisitionBlock|MultiTrackSetup|TrackSetup|Detector|DetectorIdentifier #1': 'DescannedPmt1',\n",
       " 'Experiment|AcquisitionBlock|MultiTrackSetup|TrackSetup|Detector|DetectorIdentifier #2': 'DescannedPmt2',\n",
       " 'Experiment|AcquisitionBlock|MultiTrackSetup|TrackSetup|Detector|DetectorIdentifier #3': 'NonDescannedTransmissionPmt1',\n",
       " 'Experiment|AcquisitionBlock|MultiTrackSetup|TrackSetup|Detector|DetectorMode #1': 'Integration',\n",
       " 'Experiment|AcquisitionBlock|MultiTrackSetup|TrackSetup|Detector|DetectorMode #2': 'Integration',\n",
       " 'Experiment|AcquisitionBlock|MultiTrackSetup|TrackSetup|Detector|DetectorMode #3': 'Integration',\n",
       " 'Experiment|AcquisitionBlock|MultiTrackSetup|TrackSetup|Detector|DetectorWavelengthRange|WavelengthEnd #1': '4.8957000000000006e-007',\n",
       " 'Experiment|AcquisitionBlock|MultiTrackSetup|TrackSetup|Detector|DetectorWavelengthRange|WavelengthEnd #2': '7.5398000000000019e-007',\n",
       " 'Experiment|AcquisitionBlock|MultiTrackSetup|TrackSetup|Detector|DetectorWavelengthRange|WavelengthStart #1': '4.0595000000000001e-007',\n",
       " 'Experiment|AcquisitionBlock|MultiTrackSetup|TrackSetup|Detector|DetectorWavelengthRange|WavelengthStart #2': '6.3401000000000016e-007',\n",
       " 'Experiment|AcquisitionBlock|MultiTrackSetup|TrackSetup|Detector|DigitalGain #1': '1',\n",
       " 'Experiment|AcquisitionBlock|MultiTrackSetup|TrackSetup|Detector|DigitalGain #2': '1',\n",
       " 'Experiment|AcquisitionBlock|MultiTrackSetup|TrackSetup|Detector|DigitalGain #3': '1',\n",
       " 'Experiment|AcquisitionBlock|MultiTrackSetup|TrackSetup|Detector|DigitalOffset #1': '0',\n",
       " 'Experiment|AcquisitionBlock|MultiTrackSetup|TrackSetup|Detector|DigitalOffset #2': '0',\n",
       " 'Experiment|AcquisitionBlock|MultiTrackSetup|TrackSetup|Detector|DigitalOffset #3': '0',\n",
       " 'Experiment|AcquisitionBlock|MultiTrackSetup|TrackSetup|Detector|Dye #1': 'DAPI',\n",
       " 'Experiment|AcquisitionBlock|MultiTrackSetup|TrackSetup|Detector|Dye #2': 'Alexa Fluor 647',\n",
       " 'Experiment|AcquisitionBlock|MultiTrackSetup|TrackSetup|Detector|Folder #1': 'DAPI',\n",
       " 'Experiment|AcquisitionBlock|MultiTrackSetup|TrackSetup|Detector|Folder #2': 'Alexa Fluor 647',\n",
       " 'Experiment|AcquisitionBlock|MultiTrackSetup|TrackSetup|Detector|Id #1': '235500404712518800632916796840170270386',\n",
       " 'Experiment|AcquisitionBlock|MultiTrackSetup|TrackSetup|Detector|Id #2': '1881526653113272083220755705762299360574',\n",
       " 'Experiment|AcquisitionBlock|MultiTrackSetup|TrackSetup|Detector|Id #3': '1136564719118149748540680941422784909662',\n",
       " 'Experiment|AcquisitionBlock|MultiTrackSetup|TrackSetup|Detector|ImageChannelName #1': 'Ch1',\n",
       " 'Experiment|AcquisitionBlock|MultiTrackSetup|TrackSetup|Detector|ImageChannelName #2': 'Ch2',\n",
       " 'Experiment|AcquisitionBlock|MultiTrackSetup|TrackSetup|Detector|ImageChannelName #3': 'T PMT',\n",
       " 'Experiment|AcquisitionBlock|MultiTrackSetup|TrackSetup|Detector|LaserSuppression #1': 'true',\n",
       " 'Experiment|AcquisitionBlock|MultiTrackSetup|TrackSetup|Detector|LaserSuppression #2': 'true',\n",
       " 'Experiment|AcquisitionBlock|MultiTrackSetup|TrackSetup|Detector|LaserSuppression #3': 'true',\n",
       " 'Experiment|AcquisitionBlock|MultiTrackSetup|TrackSetup|Detector|Name #1': 'PMT',\n",
       " 'Experiment|AcquisitionBlock|MultiTrackSetup|TrackSetup|Detector|Name #2': 'PMT',\n",
       " 'Experiment|AcquisitionBlock|MultiTrackSetup|TrackSetup|Detector|Name #3': '',\n",
       " 'Experiment|AcquisitionBlock|MultiTrackSetup|TrackSetup|Detector|Palette #1': 'LsmDetectorPalette_0_0',\n",
       " 'Experiment|AcquisitionBlock|MultiTrackSetup|TrackSetup|Detector|Palette #2': 'LsmDetectorPalette_0_1',\n",
       " 'Experiment|AcquisitionBlock|MultiTrackSetup|TrackSetup|Detector|Palette #3': 'LsmDetectorPalette_0_2',\n",
       " 'Experiment|AcquisitionBlock|MultiTrackSetup|TrackSetup|Detector|PinholeDiameter #1': '4.9027599999999998e-005',\n",
       " 'Experiment|AcquisitionBlock|MultiTrackSetup|TrackSetup|Detector|PinholeDiameter #2': '4.9027599999999998e-005',\n",
       " 'Experiment|AcquisitionBlock|MultiTrackSetup|TrackSetup|Detector|PinholeDiameter #3': '0',\n",
       " 'Experiment|AcquisitionBlock|MultiTrackSetup|TrackSetup|Detector|PureRatioSource #1': 'false',\n",
       " 'Experiment|AcquisitionBlock|MultiTrackSetup|TrackSetup|Detector|PureRatioSource #2': 'false',\n",
       " 'Experiment|AcquisitionBlock|MultiTrackSetup|TrackSetup|Detector|PureRatioSource #3': 'false',\n",
       " 'Experiment|AcquisitionBlock|MultiTrackSetup|TrackSetup|Detector|SpectralScanChannels #1': '32',\n",
       " 'Experiment|AcquisitionBlock|MultiTrackSetup|TrackSetup|Detector|SpectralScanChannels #2': '32',\n",
       " 'Experiment|AcquisitionBlock|MultiTrackSetup|TrackSetup|Detector|SpectralScanChannels #3': '32',\n",
       " 'Experiment|AcquisitionBlock|MultiTrackSetup|TrackSetup|Detector|Voltage #1': '670',\n",
       " 'Experiment|AcquisitionBlock|MultiTrackSetup|TrackSetup|Detector|Voltage #2': '820',\n",
       " 'Experiment|AcquisitionBlock|MultiTrackSetup|TrackSetup|Detector|Voltage #3': '320',\n",
       " 'Experiment|AcquisitionBlock|MultiTrackSetup|TrackSetup|DeviceMode #1': 'LSM_ChannelMode',\n",
       " 'Experiment|AcquisitionBlock|MultiTrackSetup|TrackSetup|FieldStopPosition #1': '-1',\n",
       " 'Experiment|AcquisitionBlock|MultiTrackSetup|TrackSetup|FilterTransmission #1': '-1',\n",
       " 'Experiment|AcquisitionBlock|MultiTrackSetup|TrackSetup|LaserSuppressionMode #1': 'None',\n",
       " 'Experiment|AcquisitionBlock|MultiTrackSetup|TrackSetup|Name #1': 'Track1',\n",
       " 'Experiment|AcquisitionBlock|MultiTrackSetup|TrackSetup|PalmSlider #1': 'true',\n",
       " 'Experiment|AcquisitionBlock|MultiTrackSetup|TrackSetup|ReflectedLightLampIntensity #1': '0',\n",
       " 'Experiment|AcquisitionBlock|MultiTrackSetup|TrackSetup|SimGratingPeriod #1': '0',\n",
       " 'Experiment|AcquisitionBlock|MultiTrackSetup|TrackSetup|TirfAngle #1': '0',\n",
       " 'Experiment|AcquisitionBlock|MultiTrackSetup|TrackSetup|TransmittedLightLampIntensity #1': '0',\n",
       " 'Experiment|AcquisitionBlock|MultiTrackSetup|TrackSetup|TubeLensPosition #1': 'Lens LSM',\n",
       " 'Experiment|AcquisitionBlock|TilesSetup|PositionGroup|AutoFocusMode #1': 'Off',\n",
       " 'Experiment|AcquisitionBlock|TilesSetup|PositionGroup|AutoFocusOffset #1': '0',\n",
       " 'Experiment|AcquisitionBlock|ZStackSetup|Extrapolate #1': 'false',\n",
       " 'Experiment|AcquisitionBlock|ZStackSetup|Interpolation #1': 'Cubic',\n",
       " 'Experiment|AcquisitionBlock|ZStackSetup|StackBrightnessCorrection #1': 'false',\n",
       " 'Experiment|ExperimentBlockIndex #1': '0',\n",
       " 'Information|Application|Name #1': 'AIMApplication',\n",
       " 'Information|Application|Version #1': '11,0,0,190',\n",
       " 'Information|Document|CreationDate #1': '2016-11-11T08:14:50',\n",
       " 'Information|Document|Name #1': '1',\n",
       " 'Information|Document|Rating #1': '0',\n",
       " 'Information|Document|SubType #1': 'Image',\n",
       " 'Information|Document|Title #1': '1',\n",
       " 'Information|Document|UserName #1': 'LSM User',\n",
       " 'Information|Image|Channel|AcquisitionMode #1': 'LaserScanningConfocalMicroscopy',\n",
       " 'Information|Image|Channel|AcquisitionMode #2': 'LaserScanningConfocalMicroscopy',\n",
       " 'Information|Image|Channel|AcquisitionMode #3': 'LaserScanningConfocalMicroscopy',\n",
       " 'Information|Image|Channel|Attenuation #1': '0.97999999999999998',\n",
       " 'Information|Image|Channel|Attenuation #2': '0.98999999999999999',\n",
       " 'Information|Image|Channel|Attenuation #3': '0.97999999999999998',\n",
       " 'Information|Image|Channel|Attenuation #4': '0.98999999999999999',\n",
       " 'Information|Image|Channel|Attenuation #5': '0.97999999999999998',\n",
       " 'Information|Image|Channel|Attenuation #6': '0.98999999999999999',\n",
       " 'Information|Image|Channel|Binning #1': '1x1',\n",
       " 'Information|Image|Channel|Binning #2': '1x1',\n",
       " 'Information|Image|Channel|Binning #3': '1x1',\n",
       " 'Information|Image|Channel|ChannelType #1': 'Unspecified',\n",
       " 'Information|Image|Channel|ChannelType #2': 'Unspecified',\n",
       " 'Information|Image|Channel|ChannelType #3': 'Unspecified',\n",
       " 'Information|Image|Channel|ContrastMethod #1': 'Fluorescence',\n",
       " 'Information|Image|Channel|ContrastMethod #2': 'Fluorescence',\n",
       " 'Information|Image|Channel|ContrastMethod #3': 'Other',\n",
       " 'Information|Image|Channel|DetectionWavelength|Ranges #1': '405.94999999999999-489.57000000000005',\n",
       " 'Information|Image|Channel|DetectionWavelength|Ranges #2': '634.0100000000001-753.98000000000025',\n",
       " 'Information|Image|Channel|Detector|Id #1': 'Detector:0:0',\n",
       " 'Information|Image|Channel|Detector|Id #2': 'Detector:0:1',\n",
       " 'Information|Image|Channel|Detector|Id #3': 'Detector:0:2',\n",
       " 'Information|Image|Channel|DigitalGain #1': '1',\n",
       " 'Information|Image|Channel|DigitalGain #2': '1',\n",
       " 'Information|Image|Channel|DigitalGain #3': '1',\n",
       " 'Information|Image|Channel|EmissionWavelength #1': '447.76000000000005',\n",
       " 'Information|Image|Channel|ExcitationWavelength #1': '405.00000000000006',\n",
       " 'Information|Image|Channel|Fluor #1': 'DAPI',\n",
       " 'Information|Image|Channel|Fluor #2': 'Alexa Fluor 647',\n",
       " 'Information|Image|Channel|Gain #1': '670',\n",
       " 'Information|Image|Channel|Gain #2': '820',\n",
       " 'Information|Image|Channel|Gain #3': '320',\n",
       " 'Information|Image|Channel|Id #1': '235500404712518800632916796840170270386',\n",
       " 'Information|Image|Channel|Id #2': '1881526653113272083220755705762299360574',\n",
       " 'Information|Image|Channel|Id #3': '1136564719118149748540680941422784909662',\n",
       " 'Information|Image|Channel|IlluminationType #1': 'Epifluorescence',\n",
       " 'Information|Image|Channel|IlluminationType #2': 'Epifluorescence',\n",
       " 'Information|Image|Channel|IlluminationType #3': 'Epifluorescence',\n",
       " 'Information|Image|Channel|LaserScanInfo|Averaging #1': '4',\n",
       " 'Information|Image|Channel|LaserScanInfo|Averaging #2': '4',\n",
       " 'Information|Image|Channel|LaserScanInfo|Averaging #3': '4',\n",
       " 'Information|Image|Channel|LaserScanInfo|FrameTime #1': '12.000426666666669',\n",
       " 'Information|Image|Channel|LaserScanInfo|FrameTime #2': '12.000426666666669',\n",
       " 'Information|Image|Channel|LaserScanInfo|FrameTime #3': '12.000426666666669',\n",
       " 'Information|Image|Channel|LaserScanInfo|LineTime #1': '3.9393939393939396e-007',\n",
       " 'Information|Image|Channel|LaserScanInfo|LineTime #2': '3.9393939393939396e-007',\n",
       " 'Information|Image|Channel|LaserScanInfo|LineTime #3': '3.9393939393939396e-007',\n",
       " 'Information|Image|Channel|LaserScanInfo|PixelTime #1': '6.6666666666666671e-007',\n",
       " 'Information|Image|Channel|LaserScanInfo|PixelTime #2': '6.6666666666666671e-007',\n",
       " 'Information|Image|Channel|LaserScanInfo|PixelTime #3': '6.6666666666666671e-007',\n",
       " 'Information|Image|Channel|LaserScanInfo|SampleOffsetX #1': '0',\n",
       " 'Information|Image|Channel|LaserScanInfo|SampleOffsetX #2': '0',\n",
       " 'Information|Image|Channel|LaserScanInfo|SampleOffsetX #3': '0',\n",
       " 'Information|Image|Channel|LaserScanInfo|SampleOffsetY #1': '0',\n",
       " 'Information|Image|Channel|LaserScanInfo|SampleOffsetY #2': '0',\n",
       " 'Information|Image|Channel|LaserScanInfo|SampleOffsetY #3': '0',\n",
       " 'Information|Image|Channel|LaserScanInfo|SampleRotation #1': '0',\n",
       " 'Information|Image|Channel|LaserScanInfo|SampleRotation #2': '0',\n",
       " 'Information|Image|Channel|LaserScanInfo|SampleRotation #3': '0',\n",
       " 'Information|Image|Channel|LaserScanInfo|ScanningMode #1': 'LineSequential',\n",
       " 'Information|Image|Channel|LaserScanInfo|ScanningMode #2': 'LineSequential',\n",
       " 'Information|Image|Channel|LaserScanInfo|ScanningMode #3': 'LineSequential',\n",
       " 'Information|Image|Channel|LaserScanInfo|ZoomX #1': '1',\n",
       " 'Information|Image|Channel|LaserScanInfo|ZoomX #2': '1',\n",
       " 'Information|Image|Channel|LaserScanInfo|ZoomX #3': '1',\n",
       " 'Information|Image|Channel|LaserScanInfo|ZoomY #1': '1',\n",
       " 'Information|Image|Channel|LaserScanInfo|ZoomY #2': '1',\n",
       " 'Information|Image|Channel|LaserScanInfo|ZoomY #3': '1',\n",
       " 'Information|Image|Channel|LightSource|Id #1': 'LightSource:0',\n",
       " 'Information|Image|Channel|LightSource|Id #2': 'LightSource:1',\n",
       " 'Information|Image|Channel|LightSource|Id #3': 'LightSource:0',\n",
       " 'Information|Image|Channel|LightSource|Id #4': 'LightSource:1',\n",
       " 'Information|Image|Channel|LightSource|Id #5': 'LightSource:0',\n",
       " 'Information|Image|Channel|LightSource|Id #6': 'LightSource:1',\n",
       " 'Information|Image|Channel|Magnification #1': '1',\n",
       " 'Information|Image|Channel|Magnification #2': '1',\n",
       " 'Information|Image|Channel|Magnification #3': '1',\n",
       " 'Information|Image|Channel|Mode #1': 'Off',\n",
       " 'Information|Image|Channel|Mode #2': 'Off',\n",
       " 'Information|Image|Channel|Mode #3': 'Off',\n",
       " 'Information|Image|Channel|Name #1': 'Ch1',\n",
       " 'Information|Image|Channel|Name #2': 'Ch2',\n",
       " 'Information|Image|Channel|Name #3': 'T PMT',\n",
       " 'Information|Image|Channel|Offset #1': '140',\n",
       " 'Information|Image|Channel|Offset #2': '180',\n",
       " 'Information|Image|Channel|Offset #3': '0',\n",
       " 'Information|Image|Channel|PhotonConversionFactor #1': '102.22349196844347',\n",
       " 'Information|Image|Channel|PhotonConversionFactor #2': '102.22349196844347',\n",
       " 'Information|Image|Channel|PhotonConversionFactor #3': '102.22349196844347',\n",
       " 'Information|Image|Channel|PinholeSizeAiry #1': '1.1483041713733579',\n",
       " 'Information|Image|Channel|PinholeSizeAiry #2': '1',\n",
       " 'Information|Image|Channel|Polarization|StokesParameter1 #1': '1',\n",
       " 'Information|Image|Channel|Polarization|StokesParameter1 #2': '1',\n",
       " 'Information|Image|Channel|Polarization|StokesParameter1 #3': '1',\n",
       " 'Information|Image|Channel|Polarization|StokesParameter1 #4': '1',\n",
       " 'Information|Image|Channel|Polarization|StokesParameter1 #5': '1',\n",
       " 'Information|Image|Channel|Polarization|StokesParameter1 #6': '1',\n",
       " 'Information|Image|Channel|Polarization|StokesParameter2 #1': '1',\n",
       " 'Information|Image|Channel|Polarization|StokesParameter2 #2': '1',\n",
       " 'Information|Image|Channel|Polarization|StokesParameter2 #3': '1',\n",
       " 'Information|Image|Channel|Polarization|StokesParameter2 #4': '1',\n",
       " 'Information|Image|Channel|Polarization|StokesParameter2 #5': '1',\n",
       " 'Information|Image|Channel|Polarization|StokesParameter2 #6': '1',\n",
       " 'Information|Image|Channel|Polarization|StokesParameter3 #1': '0',\n",
       " 'Information|Image|Channel|Polarization|StokesParameter3 #2': '0',\n",
       " 'Information|Image|Channel|Polarization|StokesParameter3 #3': '0',\n",
       " 'Information|Image|Channel|Polarization|StokesParameter3 #4': '0',\n",
       " 'Information|Image|Channel|Polarization|StokesParameter3 #5': '0',\n",
       " 'Information|Image|Channel|Polarization|StokesParameter3 #6': '0',\n",
       " 'Information|Image|Channel|Polarization|StokesParameter4 #1': '0',\n",
       " 'Information|Image|Channel|Polarization|StokesParameter4 #2': '0',\n",
       " 'Information|Image|Channel|Polarization|StokesParameter4 #3': '0',\n",
       " 'Information|Image|Channel|Polarization|StokesParameter4 #4': '0',\n",
       " 'Information|Image|Channel|Polarization|StokesParameter4 #5': '0',\n",
       " 'Information|Image|Channel|Polarization|StokesParameter4 #6': '0',\n",
       " 'Information|Image|Channel|TransformationXX #1': '4.90833236573583e+252',\n",
       " 'Information|Image|Channel|TransformationXX #2': '4.90833236573583e+252',\n",
       " 'Information|Image|Channel|TransformationXX #3': '4.90833236573583e+252',\n",
       " 'Information|Image|Channel|TransformationXY #1': '3.1985903561914739e-308',\n",
       " 'Information|Image|Channel|TransformationXY #2': '3.1985903561914739e-308',\n",
       " 'Information|Image|Channel|TransformationXY #3': '3.1985903561914739e-308',\n",
       " 'Information|Image|Channel|TransformationYX #1': '2.7363536687553051e-310',\n",
       " 'Information|Image|Channel|TransformationYX #2': '2.7363536687553051e-310',\n",
       " 'Information|Image|Channel|TransformationYX #3': '2.7363536687553051e-310',\n",
       " 'Information|Image|Channel|TransformationYY #1': '3.7548673089309564e-308',\n",
       " 'Information|Image|Channel|TransformationYY #2': '3.7548673089309564e-308',\n",
       " 'Information|Image|Channel|TransformationYY #3': '3.7548673089309564e-308',\n",
       " 'Information|Image|Channel|VirtualPinholeSize #1': '1',\n",
       " 'Information|Image|Channel|VirtualPinholeSize #2': '1',\n",
       " 'Information|Image|Channel|VirtualPinholeSize #3': '1',\n",
       " 'Information|Image|Channel|Wavelength #1': '633',\n",
       " 'Information|Image|Channel|Wavelength #2': '405.00000000000006',\n",
       " 'Information|Image|Channel|Wavelength #3': '633',\n",
       " 'Information|Image|Channel|Wavelength #4': '405.00000000000006',\n",
       " 'Information|Image|Channel|Wavelength #5': '633',\n",
       " 'Information|Image|Channel|Wavelength #6': '405.00000000000006',\n",
       " 'Information|Image|ComponentBitCount #1': '16',\n",
       " 'Information|Image|Medium #1': 'Oil',\n",
       " 'Information|Image|MicroscopeRef|Id #1': 'Microscope:0',\n",
       " 'Information|Image|ObjectiveRef|Id #1': 'Objective:0',\n",
       " 'Information|Image|OriginalScanData #1': 'true',\n",
       " 'Information|Image|PixelType #1': 'Gray16',\n",
       " 'Information|Image|RefractiveIndex #1': '1.518',\n",
       " 'Information|Image|SizeC #1': '3',\n",
       " 'Information|Image|SizeX #1': '1960',\n",
       " 'Information|Image|SizeY #1': '1960',\n",
       " 'Information|Image|S|Scene|Index #1': '0',\n",
       " 'Information|Image|S|Scene|Position|X #1': '-10373.6',\n",
       " 'Information|Image|S|Scene|Position|Y #1': '-2738.63',\n",
       " 'Information|Image|S|Scene|Position|Z #1': '1392.18',\n",
       " 'Information|Image|Track|ChannelRef|Id #1': '235500404712518800632916796840170270386',\n",
       " 'Information|Image|Track|ChannelRef|Id #2': '1881526653113272083220755705762299360574',\n",
       " 'Information|Image|Track|ChannelRef|Id #3': '1136564719118149748540680941422784909662',\n",
       " 'Information|Image|Track|Id #1': 'Track:0',\n",
       " 'Information|Image|T|BinaryList|AttachmentName #1': 'TimeStamps',\n",
       " 'Information|Instrument|Detector|AmplificationGain #1': '1',\n",
       " 'Information|Instrument|Detector|AmplificationGain #2': '1',\n",
       " 'Information|Instrument|Detector|AmplificationGain #3': '1',\n",
       " 'Information|Instrument|Detector|Gain #1': '1',\n",
       " 'Information|Instrument|Detector|Gain #2': '1',\n",
       " 'Information|Instrument|Detector|Gain #3': '1',\n",
       " 'Information|Instrument|Detector|Id #1': 'Detector:0:0',\n",
       " 'Information|Instrument|Detector|Id #2': 'Detector:0:1',\n",
       " 'Information|Instrument|Detector|Id #3': 'Detector:0:2',\n",
       " 'Information|Instrument|Detector|Type #1': 'PMT',\n",
       " 'Information|Instrument|Detector|Type #2': 'PMT',\n",
       " 'Information|Instrument|Detector|Zoom #1': '1',\n",
       " 'Information|Instrument|Detector|Zoom #2': '1',\n",
       " 'Information|Instrument|Detector|Zoom #3': '1',\n",
       " 'Information|Instrument|Id #1': 'Instrument:0',\n",
       " 'Information|Instrument|Microscope|Id #1': 'Microscope:0',\n",
       " 'Information|Instrument|Microscope|System #1': 'LSM 780, AxioObserver',\n",
       " 'Information|Instrument|Objective|Id #1': 'Objective:0',\n",
       " 'Information|Instrument|Objective|Immersion #1': 'Oil',\n",
       " 'Information|Instrument|Objective|LensNA #1': '1.4000000000000001',\n",
       " 'Information|Instrument|Objective|Manufacturer|Model #1': 'Plan-Apochromat 63x/1.4 Oil DIC M27',\n",
       " 'Information|Instrument|Objective|NominalMagnification #1': '63',\n",
       " 'Information|User|DisplayName #1': 'LSM User',\n",
       " 'LsmTag #1': '5',\n",
       " 'LsmTag #2': 'false',\n",
       " 'LsmTag #3': '37',\n",
       " 'LsmTag #4': '37',\n",
       " 'LsmTag #5': 'false',\n",
       " 'LsmTag #6': 'false',\n",
       " 'LsmTag|Name #1': 'CarlZeissAim.IncubatorState.Actual_CO2_Module',\n",
       " 'LsmTag|Name #2': 'CarlZeissAim.IncubatorState.Switch_CO2_Module',\n",
       " 'LsmTag|Name #3': 'CarlZeissAim.IncubatorState.Actual_TempChannel1',\n",
       " 'LsmTag|Name #4': 'CarlZeissAim.IncubatorState.Actual_TempChannel3',\n",
       " 'LsmTag|Name #5': 'CarlZeissAim.IncubatorState.Switch_TempChannel1',\n",
       " 'LsmTag|Name #6': 'CarlZeissAim.IncubatorState.Switch_TempChannel3',\n",
       " 'LsmTag|Type #1': 'double',\n",
       " 'LsmTag|Type #2': 'boolean',\n",
       " 'LsmTag|Type #3': 'double',\n",
       " 'LsmTag|Type #4': 'double',\n",
       " 'LsmTag|Type #5': 'boolean',\n",
       " 'LsmTag|Type #6': 'boolean',\n",
       " 'Scaling|Distance|Id #1': 'X',\n",
       " 'Scaling|Distance|Id #2': 'Y',\n",
       " 'Scaling|Distance|Id #3': 'Z',\n",
       " 'Scaling|Distance|Value #1': '6.8852625328039586e-008',\n",
       " 'Scaling|Distance|Value #2': '6.8852625328039586e-008',\n",
       " 'Scaling|Distance|Value #3': '0',\n",
       " 'Version #1': '1.0'}"
      ]
     },
     "execution_count": 10,
     "metadata": {},
     "output_type": "execute_result"
    }
   ],
   "source": [
    "metadata_all"
   ]
  },
  {
   "cell_type": "markdown",
   "metadata": {},
   "source": [
    "**get_stack()** will load into memory all your stack. "
   ]
  },
  {
   "cell_type": "code",
   "execution_count": 11,
   "metadata": {
    "collapsed": false
   },
   "outputs": [],
   "source": [
    "stack = image.get_stack()"
   ]
  },
  {
   "cell_type": "code",
   "execution_count": 12,
   "metadata": {
    "collapsed": false
   },
   "outputs": [
    {
     "data": {
      "text/plain": [
       "(1960, 1960, 3)"
      ]
     },
     "execution_count": 12,
     "metadata": {},
     "output_type": "execute_result"
    }
   ],
   "source": [
    "stack.shape"
   ]
  },
  {
   "cell_type": "markdown",
   "metadata": {},
   "source": [
    "**get_frame_2D(att)** will load a certain frame into memory (att are: t for time point, c for channel and z for z position). Very useful if your stack of image is to bigger than the memory available. It will also create a smaller version of the metadata with some essential.  "
   ]
  },
  {
   "cell_type": "code",
   "execution_count": 18,
   "metadata": {
    "collapsed": false
   },
   "outputs": [],
   "source": [
    "metadata, img = image.get_frame_2D(c=1)"
   ]
  },
  {
   "cell_type": "code",
   "execution_count": 19,
   "metadata": {
    "collapsed": false
   },
   "outputs": [
    {
     "data": {
      "text/plain": [
       "{'c': 1,\n",
       " 'frame': 1,\n",
       " 'pixel_size': 0.069,\n",
       " 'series': 0,\n",
       " 't_s': None,\n",
       " 'x_um': 0,\n",
       " 'y_um': 0}"
      ]
     },
     "execution_count": 19,
     "metadata": {},
     "output_type": "execute_result"
    }
   ],
   "source": [
    "metadata"
   ]
  },
  {
   "cell_type": "code",
   "execution_count": 15,
   "metadata": {
    "collapsed": false
   },
   "outputs": [
    {
     "data": {
      "text/plain": [
       "(1960, 1960)"
      ]
     },
     "execution_count": 15,
     "metadata": {},
     "output_type": "execute_result"
    }
   ],
   "source": [
    "img.shape"
   ]
  }
 ],
 "metadata": {
  "anaconda-cloud": {},
  "kernelspec": {
   "display_name": "Python [Root]",
   "language": "python",
   "name": "Python [Root]"
  },
  "language_info": {
   "codemirror_mode": {
    "name": "ipython",
    "version": 3
   },
   "file_extension": ".py",
   "mimetype": "text/x-python",
   "name": "python",
   "nbconvert_exporter": "python",
   "pygments_lexer": "ipython3",
   "version": "3.5.2"
  }
 },
 "nbformat": 4,
 "nbformat_minor": 2
}
