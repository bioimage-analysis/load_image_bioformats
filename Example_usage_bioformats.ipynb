{
 "cells": [
  {
   "cell_type": "code",
   "execution_count": 1,
   "metadata": {
    "collapsed": true,
    "deletable": true,
    "editable": true
   },
   "outputs": [],
   "source": [
    "%load_ext autoreload\n",
    "%autoreload 2"
   ]
  },
  {
   "cell_type": "code",
   "execution_count": 2,
   "metadata": {
    "collapsed": true,
    "deletable": true,
    "editable": true
   },
   "outputs": [],
   "source": [
    "% matplotlib inline"
   ]
  },
  {
   "cell_type": "code",
   "execution_count": 3,
   "metadata": {
    "collapsed": false,
    "deletable": true,
    "editable": true
   },
   "outputs": [],
   "source": [
    "import matplotlib.pyplot as plt\n",
    "import numpy as np\n",
    "import bioformats"
   ]
  },
  {
   "cell_type": "code",
   "execution_count": 4,
   "metadata": {
    "collapsed": true,
    "deletable": true,
    "editable": true
   },
   "outputs": [],
   "source": [
    "path = \"img/3D_Kidney.czi\""
   ]
  },
  {
   "cell_type": "code",
   "execution_count": 5,
   "metadata": {
    "collapsed": false,
    "deletable": true,
    "editable": true
   },
   "outputs": [],
   "source": [
    "image = bioformats.BioformatsReader(path)"
   ]
  },
  {
   "cell_type": "markdown",
   "metadata": {
    "deletable": true,
    "editable": true
   },
   "source": [
    "Here we have created an instance object \"image\" of the class BioformatsReader, if you are note familliar with classes in Python you can look [here](https://docs.python.org/3/tutorial/classes.html), codeacademy also has a nice [introduction to classes](https://www.codecademy.com/courses/python-intermediate-en-WL8e4/0/1)."
   ]
  },
  {
   "cell_type": "code",
   "execution_count": 6,
   "metadata": {
    "collapsed": false,
    "deletable": true,
    "editable": true
   },
   "outputs": [
    {
     "data": {
      "text/plain": [
       "<bioformats.BioformatsReader at 0x103d36b38>"
      ]
     },
     "execution_count": 6,
     "metadata": {},
     "output_type": "execute_result"
    }
   ],
   "source": [
    "image"
   ]
  },
  {
   "cell_type": "markdown",
   "metadata": {
    "deletable": true,
    "editable": true
   },
   "source": [
    "#### 5 methods can be applied to the object image: "
   ]
  },
  {
   "cell_type": "markdown",
   "metadata": {
    "deletable": true,
    "editable": true
   },
   "source": [
    "**get_dimension()** will give some information on the dimensionality of your object"
   ]
  },
  {
   "cell_type": "code",
   "execution_count": 7,
   "metadata": {
    "collapsed": false,
    "deletable": true,
    "editable": true
   },
   "outputs": [],
   "source": [
    "dim = image.get_dimension()"
   ]
  },
  {
   "cell_type": "code",
   "execution_count": 8,
   "metadata": {
    "collapsed": false,
    "deletable": true,
    "editable": true
   },
   "outputs": [
    {
     "data": {
      "text/plain": [
       "{'c': 3, 't': 1, 'x': 2048, 'y': 2048, 'z': 48}"
      ]
     },
     "execution_count": 8,
     "metadata": {},
     "output_type": "execute_result"
    }
   ],
   "source": [
    "dim"
   ]
  },
  {
   "cell_type": "markdown",
   "metadata": {
    "deletable": true,
    "editable": true
   },
   "source": [
    "**get_metadata_raw()** will give you all the metadata associated with your object (similar to image oinfo in imageJ)"
   ]
  },
  {
   "cell_type": "code",
   "execution_count": 9,
   "metadata": {
    "collapsed": true,
    "deletable": true,
    "editable": true
   },
   "outputs": [],
   "source": [
    "metadata_all = image.get_metadata_raw()"
   ]
  },
  {
   "cell_type": "code",
   "execution_count": 10,
   "metadata": {
    "collapsed": false,
    "deletable": true,
    "editable": true
   },
   "outputs": [
    {
     "data": {
      "text/plain": [
       "['Appliance|Data|ShuttleAndFindData|Calibration|Marker|StageXPosition #1',\n",
       " 'Information|Image|Channel|LaserScanInfo|SampleRotation #2',\n",
       " 'Experiment|AcquisitionBlock|AcquisitionModeSetup|RtZoom #1',\n",
       " 'Scaling|Distance|Id #1',\n",
       " 'Information|Image|Channel|VirtualPinholeSize #3',\n",
       " 'Information|Instrument|Detector|Zoom #2',\n",
       " 'Appliance|Data|ShuttleAndFindData|Calibration|Marker|FocusPosition #1',\n",
       " 'Experiment|AcquisitionBlock|MultiTrackSetup|TrackSetup|Detector|DigitalOffset #1',\n",
       " 'Information|Image|Channel|Gain #2',\n",
       " 'Experiment|AcquisitionBlock|MultiTrackSetup|TrackSetup|Attenuator|Polarization_Stokes1 #2',\n",
       " 'Experiment|AcquisitionBlock|MultiTrackSetup|TrackSetup|Detector|AiryScanTransformationYX #1',\n",
       " 'LsmTag|Type #5',\n",
       " 'LsmTag #6',\n",
       " 'Layer|OpenArrow|CharacterSet #1',\n",
       " 'Experiment|AcquisitionBlock|MultiTrackSetup|TrackSetup|Collimator|Position #2',\n",
       " 'Experiment|AcquisitionBlock|MultiTrackSetup|TrackSetup|BeamSplitter|BeamSplitterServoPosition #08',\n",
       " 'Information|Image|Channel|TransformationYX #3',\n",
       " 'Information|Image|MicroscopeRef|Id #1',\n",
       " 'Information|Image|Z|Interval|Start #1',\n",
       " 'Information|Instrument|Detector|Id #1',\n",
       " 'Experiment|ExperimentBlockIndex #1',\n",
       " 'Information|Image|Channel|Polarization|StokesParameter1 #4',\n",
       " 'Experiment|AcquisitionBlock|MultiTrackSetup|TrackSetup|ReflectedLightLampIntensity #2',\n",
       " 'Information|Image|Channel|LaserScanInfo|LineTime #2',\n",
       " 'Experiment|AcquisitionBlock|AcquisitionModeSetup|HdrImagingMode #1',\n",
       " 'Experiment|AcquisitionBlock|MultiTrackSetup|TrackSetup|Attenuator|Polarization_Stokes3 #1',\n",
       " 'Information|Image|T|BinaryList|AttachmentName #1',\n",
       " 'Experiment|AcquisitionBlock|MultiTrackSetup|TrackSetup|BeamSplitter|Identifier #09',\n",
       " 'Information|Image|Channel|LaserScanInfo|FrameTime #1',\n",
       " 'Experiment|AcquisitionBlock|AcquisitionModeSetup|HdrIntensity #1',\n",
       " 'Experiment|AcquisitionBlock|MultiTrackSetup|TrackSetup|Collimator|Position #3',\n",
       " 'Experiment|AcquisitionBlock|MultiTrackSetup|TrackSetup|Collimator|Position #4',\n",
       " 'Appliance|Data|ShuttleAndFindData|Calibration|MicroscopeType #1',\n",
       " 'Information|Image|Channel|ExcitationWavelength #2',\n",
       " 'Information|Image|Channel|Id #1',\n",
       " 'Information|Image|Channel|IlluminationType #3',\n",
       " 'Experiment|AcquisitionBlock|MultiTrackSetup|TrackSetup|BeamSplitter|Filter #01',\n",
       " 'Experiment|AcquisitionBlock|AcquisitionModeSetup|CameraFrameOffsetX #1',\n",
       " 'Information|Image|Channel|Id #2',\n",
       " 'Layer|Usage #1',\n",
       " 'Information|Image|Channel|Polarization|StokesParameter3 #5',\n",
       " 'Experiment|AcquisitionBlock|AcquisitionModeSetup|CameraBinning #1',\n",
       " 'Experiment|AcquisitionBlock|MultiTrackSetup|TrackSetup|Detector|PinholeDiameter #3',\n",
       " 'Experiment|AcquisitionBlock|MultiTrackSetup|TrackSetup|Detector|AiryScanTransformationYX #3',\n",
       " 'Information|Image|Channel|Polarization|StokesParameter3 #3',\n",
       " 'Experiment|AcquisitionBlock|MultiTrackSetup|TrackSetup|PalmSlider #1',\n",
       " 'Information|Instrument|Microscope|Id #1',\n",
       " 'Experiment|AcquisitionBlock|Laser|LaserPower #1',\n",
       " 'Experiment|AcquisitionBlock|AcquisitionModeSetup|ScalingX #1',\n",
       " 'Layer|CoordinateUnitY #1']"
      ]
     },
     "execution_count": 10,
     "metadata": {},
     "output_type": "execute_result"
    }
   ],
   "source": [
    "# Here, for clarity, I'm just showing the first 50 keys of the dictionary metadata_all:\n",
    "list(metadata_all.keys())[0:50]"
   ]
  },
  {
   "cell_type": "markdown",
   "metadata": {
    "deletable": true,
    "editable": true
   },
   "source": [
    "**get_stack()** will load into memory all your stack. "
   ]
  },
  {
   "cell_type": "code",
   "execution_count": 11,
   "metadata": {
    "collapsed": false,
    "deletable": true,
    "editable": true
   },
   "outputs": [],
   "source": [
    "stack = image.get_stack()"
   ]
  },
  {
   "cell_type": "code",
   "execution_count": 12,
   "metadata": {
    "collapsed": false,
    "deletable": true,
    "editable": true
   },
   "outputs": [
    {
     "data": {
      "text/plain": [
       "(48, 2048, 2048, 3)"
      ]
     },
     "execution_count": 12,
     "metadata": {},
     "output_type": "execute_result"
    }
   ],
   "source": [
    "stack.shape"
   ]
  },
  {
   "cell_type": "markdown",
   "metadata": {
    "deletable": true,
    "editable": true
   },
   "source": [
    "**get_frame_2D(att)** will load a certain frame into memory (att are: t for time point, c for channel and z for z position). Very useful if your stack of image is to bigger than the memory available. It will also create a smaller version of the metadata with some essential.  "
   ]
  },
  {
   "cell_type": "code",
   "execution_count": 13,
   "metadata": {
    "collapsed": false,
    "deletable": true,
    "editable": true
   },
   "outputs": [],
   "source": [
    "metadata, img = image.get_frame_2D(c=1, z=5)"
   ]
  },
  {
   "cell_type": "code",
   "execution_count": 14,
   "metadata": {
    "collapsed": false,
    "deletable": true,
    "editable": true
   },
   "outputs": [
    {
     "data": {
      "text/plain": [
       "{'Z_step_size': 0.43221984787437623,\n",
       " 'c': 1,\n",
       " 'frame': 16,\n",
       " 'pixel_size': 0.173,\n",
       " 'series': 0,\n",
       " 't_s': None,\n",
       " 'x_um': 0,\n",
       " 'y_um': 0,\n",
       " 'z': 5}"
      ]
     },
     "execution_count": 14,
     "metadata": {},
     "output_type": "execute_result"
    }
   ],
   "source": [
    "metadata"
   ]
  },
  {
   "cell_type": "code",
   "execution_count": 15,
   "metadata": {
    "collapsed": false,
    "deletable": true,
    "editable": true
   },
   "outputs": [
    {
     "data": {
      "text/plain": [
       "(2048, 2048)"
      ]
     },
     "execution_count": 15,
     "metadata": {},
     "output_type": "execute_result"
    }
   ],
   "source": [
    "img.shape"
   ]
  },
  {
   "cell_type": "code",
   "execution_count": null,
   "metadata": {
    "collapsed": true,
    "deletable": true,
    "editable": true
   },
   "outputs": [],
   "source": []
  }
 ],
 "metadata": {
  "anaconda-cloud": {},
  "kernelspec": {
   "display_name": "Python [Root]",
   "language": "python",
   "name": "Python [Root]"
  },
  "language_info": {
   "codemirror_mode": {
    "name": "ipython",
    "version": 3
   },
   "file_extension": ".py",
   "mimetype": "text/x-python",
   "name": "python",
   "nbconvert_exporter": "python",
   "pygments_lexer": "ipython3",
   "version": "3.5.2"
  }
 },
 "nbformat": 4,
 "nbformat_minor": 2
}
